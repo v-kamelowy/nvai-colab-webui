{
  "nbformat": 4,
  "nbformat_minor": 0,
  "metadata": {
    "accelerator": "GPU",
    "colab": {
      "provenance": []
    },
    "kernelspec": {
      "name": "python3",
      "display_name": "Python 3"
    },
    "language_info": {
      "name": "python"
    }
  },
  "cells": [
    {
      "cell_type": "code",
      "execution_count": null,
      "metadata": {
        "id": "nzP_Jh097rOo"
      },
      "outputs": [],
      "source": [
        "!pip install -q https://github.com/camenduru/stable-diffusion-webui-colab/releases/download/0.0.15/xformers-0.0.15.dev0+1515f77.d20221130-cp38-cp38-linux_x86_64.whl\n",
        "\n",
        "!git clone https://github.com/camenduru/stable-diffusion-webui\n",
        "%cd /content/stable-diffusion-webui\n",
        "\n",
        "!wget --load-cookies /tmp/cookies.txt \"https://docs.google.com/uc?export=download&confirm=$(wget --quiet --save-cookies /tmp/cookies.txt --keep-session-cookies --no-check-certificate 'https://docs.google.com/uc?export=download&id=1vrVViZvNyqQ3TZHkLXAhPF4gJzTM2mxC' -O- | sed -rn 's/.*confirm=([0-9A-Za-z_]+).*/\\1\\n/p')&id=1vrVViZvNyqQ3TZHkLXAhPF4gJzTM2mxC\" -O /content/stable-diffusion-webui/models/Stable-diffusion/NVAI.ckpt && rm -rf /tmp/cookies.txt\n",
        "!wget --load-cookies /tmp/cookies.txt \"https://docs.google.com/uc?export=download&confirm=$(wget --quiet --save-cookies /tmp/cookies.txt --keep-session-cookies --no-check-certificate 'https://docs.google.com/uc?export=download&id=1gd6DvuYmpr2m-KCy2nMpKhX3-fbeOgls' -O- | sed -rn 's/.*confirm=([0-9A-Za-z_]+).*/\\1\\n/p')&id=1gd6DvuYmpr2m-KCy2nMpKhX3-fbeOgls\" -O /content/stable-diffusion-webui/models/Stable-diffusion/NVAI.vae.pt && rm -rf /tmp/cookies.txt\n",
        "\n",
        "!python launch.py --share --force-enable-xformers\n"
      ]
    }
  ]
}
